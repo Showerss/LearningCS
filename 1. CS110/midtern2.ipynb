{
 "cells": [
  {
   "cell_type": "code",
   "execution_count": null,
   "metadata": {},
   "outputs": [],
   "source": [
    "{\n",
    "'Bruno' :['Minecraft', 'Mario Kart', 'Witcher 3'],\n",
    "'Andrew' :['Witcher 3', 'KOTOR'],\n",
    "'Kassidy' :['Valorant', 'CSGO'],\n",
    "'Alex' : ['Mario Kart', 'Valorant']\n",
    "}\n",
    "\n",
    "#   key          list of strings"
   ]
  },
  {
   "cell_type": "markdown",
   "metadata": {},
   "source": [
    "prompt users to enter name and top 2 viddeo games\n"
   ]
  },
  {
   "cell_type": "code",
   "execution_count": 1,
   "metadata": {},
   "outputs": [],
   "source": [
    "def askForVideoGames():\n",
    "    videoGames = {}\n",
    "    is_user_done = False #setup loop variable \n",
    "    while is_user_done == False: #continue as long as something is true\n",
    "        user = input(\"What is your name? \")\n",
    "        if user.lower != \"done\":\n",
    "            game1 = input(\"What is your favorite game? \")\n",
    "            game2 = input(\"What is your second favorite game? \")\n",
    "            video_game_list = [game1, game2]\n",
    "\n",
    "            videoGames[user] = video_game_list #assosciate key to the value \n",
    "\n",
    "        elif user.lower == \"done\":\n",
    "            is_user_done = True #update the condition \n",
    "\n",
    "    return videoGames\n",
    "\n",
    "\n",
    "def gameSuggestion(popularGames):\n",
    "    '''\n",
    "    popularGames(type: dictionary)\n",
    "    return video_game_list(type: list)\n",
    "    '''\n",
    "\n",
    "    video_game_list = []\n",
    "    \n",
    "    user_games = popularGames.values()\n",
    "    for games in user_games: \n",
    "        for game in games: \n",
    "            if game not in video_game_list:\n",
    "                video_game_list.append(game) # .append it doenst return anything, just modify a list\n",
    "\n",
    "    return video_game_list\n",
    "\n",
    "\n",
    "#final call\n",
    "popularGames = askForVideoGames()\n",
    "listofGames = gameSuggestion(popularGames)\n",
    "print(listofGames)\n",
    "\n"
   ]
  },
  {
   "cell_type": "markdown",
   "metadata": {},
   "source": [
    "#### Tuples \n",
    "Tuples can also be indexed, similar to lists\n"
   ]
  },
  {
   "cell_type": "code",
   "execution_count": 27,
   "metadata": {},
   "outputs": [
    {
     "name": "stdout",
     "output_type": "stream",
     "text": [
      "5\n",
      "8\n"
     ]
    }
   ],
   "source": [
    "tup = (4,5,6) #immutable, needs a comma\n",
    "\n",
    "list = [7,8,9] #mutable\n",
    "\n",
    "print(tup[1])\n",
    "print(list[1])\n",
    "\n",
    "\n",
    "#reassign values to tuples\n",
    "v4, v5, v6 = tup\n",
    "v4, v5 = v5, v4\n",
    "\n",
    "#you can only return inside a function\n",
    "def myfunction():\n",
    "    return (-1, -2)\n",
    "\n",
    "\n",
    "\n"
   ]
  },
  {
   "cell_type": "code",
   "execution_count": 33,
   "metadata": {},
   "outputs": [
    {
     "name": "stdout",
     "output_type": "stream",
     "text": [
      "[100, 8, 9]\n",
      "[100, 8, 9]\n",
      "5\n"
     ]
    }
   ],
   "source": [
    "print(list)\n",
    "def b(my_list):\n",
    "    my_list[0] = 100\n",
    "\n",
    "b(list)\n",
    "print(list)\n",
    "\n",
    "def c(x):\n",
    "    x = 10\n",
    "\n",
    "x = 5\n",
    "c(x)\n",
    "print(x)"
   ]
  },
  {
   "cell_type": "code",
   "execution_count": 34,
   "metadata": {},
   "outputs": [
    {
     "name": "stdout",
     "output_type": "stream",
     "text": [
      "1 4\n",
      "2 5\n",
      "3 6\n"
     ]
    }
   ],
   "source": [
    "lista = [1,2,3]\n",
    "listb = [4,5,6]\n",
    "for i in range(len(lista)): #range needs a number\n",
    "    print(lista[i], listb[i])\n"
   ]
  },
  {
   "cell_type": "code",
   "execution_count": null,
   "metadata": {},
   "outputs": [],
   "source": [
    "#accumulator patterns \n",
    "acc_int = 0\n",
    "for i in range(4):\n",
    "    acc_int += 1\n",
    "\n",
    "acc_str = \"\"\n",
    "for i in range(4):\n",
    "    acc_str += str(i)\n",
    "\n",
    "acc_list = []\n",
    "for i in range(4):\n",
    "    acc_list.append(i)"
   ]
  }
 ],
 "metadata": {
  "kernelspec": {
   "display_name": "Python 3",
   "language": "python",
   "name": "python3"
  },
  "language_info": {
   "codemirror_mode": {
    "name": "ipython",
    "version": 3
   },
   "file_extension": ".py",
   "mimetype": "text/x-python",
   "name": "python",
   "nbconvert_exporter": "python",
   "pygments_lexer": "ipython3",
   "version": "3.11.5"
  }
 },
 "nbformat": 4,
 "nbformat_minor": 2
}
